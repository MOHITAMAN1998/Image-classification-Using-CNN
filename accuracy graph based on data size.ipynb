{
 "cells": [
  {
   "cell_type": "code",
   "execution_count": 1,
   "id": "602b6064-e4ab-4dea-a1d5-462eb390769e",
   "metadata": {},
   "outputs": [
    {
     "name": "stdout",
     "output_type": "stream",
     "text": [
      "WARNING:tensorflow:From C:\\Users\\mohit\\anaconda3\\envs\\ev_2\\Lib\\site-packages\\keras\\src\\losses.py:2976: The name tf.losses.sparse_softmax_cross_entropy is deprecated. Please use tf.compat.v1.losses.sparse_softmax_cross_entropy instead.\n",
      "\n"
     ]
    }
   ],
   "source": [
    "import numpy as np\n",
    "import matplotlib.pyplot as plt\n",
    "from sklearn.metrics import confusion_matrix, ConfusionMatrixDisplay\n",
    "from tensorflow.keras.models import Sequential\n",
    "from tensorflow.keras.layers import Conv2D, MaxPooling2D, Dense, Flatten"
   ]
  },
  {
   "cell_type": "code",
   "execution_count": 2,
   "id": "66c8cb5d-81ae-4a08-8143-6a47a737f1a6",
   "metadata": {},
   "outputs": [],
   "source": [
    "X_train = np.loadtxt('input.csv', delimiter=',')\n",
    "Y_train = np.loadtxt('labels.csv', delimiter=',')\n",
    "\n",
    "X_test = np.loadtxt('input_test.csv', delimiter=',')\n",
    "Y_test = np.loadtxt('labels_test.csv', delimiter=',')"
   ]
  },
  {
   "cell_type": "code",
   "execution_count": 3,
   "id": "2a07088d-0f57-4f6a-92f7-63bdcf970327",
   "metadata": {},
   "outputs": [],
   "source": [
    "X_train = X_train.reshape(len(X_train), 100, 100, 3) / 255.0\n",
    "X_test = X_test.reshape(len(X_test), 100, 100, 3) / 255.0"
   ]
  },
  {
   "cell_type": "code",
   "execution_count": 4,
   "id": "8ecb9c51-6813-4fc0-bc3e-b5f5fec2567f",
   "metadata": {},
   "outputs": [],
   "source": [
    "dataset_sizes = [100, 200, 500, 1000, 1500, 2000, 2500]"
   ]
  },
  {
   "cell_type": "code",
   "execution_count": 5,
   "id": "1a43f37a-21f6-4460-aac6-946b73a08d31",
   "metadata": {},
   "outputs": [],
   "source": [
    "accuracies = []"
   ]
  },
  {
   "cell_type": "code",
   "execution_count": null,
   "id": "8dd5f5bb-1d51-48bd-b35b-4f07ddee39d5",
   "metadata": {},
   "outputs": [
    {
     "name": "stdout",
     "output_type": "stream",
     "text": [
      "WARNING:tensorflow:From C:\\Users\\mohit\\anaconda3\\envs\\ev_2\\Lib\\site-packages\\keras\\src\\backend.py:873: The name tf.get_default_graph is deprecated. Please use tf.compat.v1.get_default_graph instead.\n",
      "\n",
      "WARNING:tensorflow:From C:\\Users\\mohit\\anaconda3\\envs\\ev_2\\Lib\\site-packages\\keras\\src\\layers\\pooling\\max_pooling2d.py:161: The name tf.nn.max_pool is deprecated. Please use tf.nn.max_pool2d instead.\n",
      "\n",
      "WARNING:tensorflow:From C:\\Users\\mohit\\anaconda3\\envs\\ev_2\\Lib\\site-packages\\keras\\src\\optimizers\\__init__.py:309: The name tf.train.Optimizer is deprecated. Please use tf.compat.v1.train.Optimizer instead.\n",
      "\n",
      "WARNING:tensorflow:From C:\\Users\\mohit\\anaconda3\\envs\\ev_2\\Lib\\site-packages\\keras\\src\\utils\\tf_utils.py:492: The name tf.ragged.RaggedTensorValue is deprecated. Please use tf.compat.v1.ragged.RaggedTensorValue instead.\n",
      "\n",
      "WARNING:tensorflow:From C:\\Users\\mohit\\anaconda3\\envs\\ev_2\\Lib\\site-packages\\keras\\src\\engine\\base_layer_utils.py:384: The name tf.executing_eagerly_outside_functions is deprecated. Please use tf.compat.v1.executing_eagerly_outside_functions instead.\n",
      "\n",
      "13/13 [==============================] - 0s 15ms/step - loss: 22.5965 - accuracy: 0.5000\n",
      "13/13 [==============================] - 0s 14ms/step - loss: 28.1461 - accuracy: 0.5000\n",
      "13/13 [==============================] - 0s 15ms/step - loss: 25.9835 - accuracy: 0.5000\n",
      "13/13 [==============================] - 1s 21ms/step - loss: 46.0948 - accuracy: 0.5000\n",
      "13/13 [==============================] - 0s 16ms/step - loss: 0.7313 - accuracy: 0.5950\n",
      "13/13 [==============================] - 0s 18ms/step - loss: 0.8076 - accuracy: 0.6850\n"
     ]
    }
   ],
   "source": [
    "for size in dataset_sizes:\n",
    "    model = Sequential([\n",
    "        Conv2D(32, (3, 3), activation='relu', input_shape=(100, 100, 3)),\n",
    "        MaxPooling2D((2, 2)),\n",
    "        Conv2D(32, (3, 3), activation='relu'),\n",
    "        MaxPooling2D((2, 2)),\n",
    "        Flatten(),\n",
    "        Dense(64, activation='relu'),\n",
    "        Dense(1, activation='sigmoid')\n",
    "    ])\n",
    "\n",
    "    model.compile(loss='binary_crossentropy', optimizer='adam', metrics=['accuracy'])\n",
    "\n",
    "    X_train_subset, Y_train_subset = X_train[:size], Y_train[:size]\n",
    "    \n",
    "    history = model.fit(X_train_subset, Y_train_subset, epochs=9, batch_size=64, validation_data=(X_test, Y_test), verbose=0)\n",
    "\n",
    "    _, test_accuracy = model.evaluate(X_test, Y_test)\n",
    "    accuracies.append(test_accuracy)"
   ]
  },
  {
   "cell_type": "code",
   "execution_count": null,
   "id": "da8edfad-1b64-43d4-a165-c4d01132a739",
   "metadata": {},
   "outputs": [],
   "source": [
    "plt.plot(dataset_sizes, accuracies, marker='o')\n",
    "plt.xlabel('Dataset Size')\n",
    "plt.ylabel('Accuracy')\n",
    "plt.title('Accuracy vs Dataset Size')\n",
    "plt.grid(True)\n",
    "plt.show()"
   ]
  },
  {
   "cell_type": "code",
   "execution_count": null,
   "id": "a2dee233-b898-40b2-8c43-e69bd25f7445",
   "metadata": {},
   "outputs": [],
   "source": []
  }
 ],
 "metadata": {
  "kernelspec": {
   "display_name": "Python 3 (ipykernel)",
   "language": "python",
   "name": "python3"
  },
  "language_info": {
   "codemirror_mode": {
    "name": "ipython",
    "version": 3
   },
   "file_extension": ".py",
   "mimetype": "text/x-python",
   "name": "python",
   "nbconvert_exporter": "python",
   "pygments_lexer": "ipython3",
   "version": "3.11.7"
  }
 },
 "nbformat": 4,
 "nbformat_minor": 5
}
